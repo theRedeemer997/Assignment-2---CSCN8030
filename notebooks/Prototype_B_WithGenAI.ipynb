{
 "cells": [
  {
   "cell_type": "markdown",
   "id": "6e78aff5",
   "metadata": {},
   "source": [
    "# =========================================\n",
    "# Prototype B – With Generative AI\n",
    "# ========================================="
   ]
  },
  {
   "cell_type": "markdown",
   "id": "bfb3c0f6",
   "metadata": {},
   "source": [
    "# -----------------------------\n",
    "### 1. Import libraries\n",
    "# -----------------------------"
   ]
  },
  {
   "cell_type": "code",
   "execution_count": 1,
   "id": "1c35f3b2",
   "metadata": {},
   "outputs": [],
   "source": [
    "import pandas as pd\n",
    "import numpy as np\n",
    "from sklearn.model_selection import train_test_split\n",
    "from sklearn.preprocessing import OneHotEncoder\n",
    "from sklearn.compose import ColumnTransformer\n",
    "from sklearn.pipeline import Pipeline\n",
    "from sklearn.ensemble import RandomForestRegressor\n",
    "from sklearn.metrics import mean_absolute_error, mean_absolute_percentage_error, r2_score\n",
    "import pickle, os\n"
   ]
  },
  {
   "cell_type": "markdown",
   "id": "169e5c78",
   "metadata": {},
   "source": [
    "# -----------------------------\n",
    "### 2. Load data\n",
    "# -----------------------------"
   ]
  },
  {
   "cell_type": "code",
   "execution_count": 12,
   "id": "78128749",
   "metadata": {},
   "outputs": [
    {
     "name": "stdout",
     "output_type": "stream",
     "text": [
      "Index(['index', 'Encounter ID', 'Date', 'OR Suite', 'Service', 'CPT Code',\n",
      "       'CPT Description', 'Booked Time (min)', 'OR Schedule', 'Wheels In',\n",
      "       'Start Time', 'End Time', 'Wheels Out'],\n",
      "      dtype='object')\n",
      "(2172, 16)\n",
      "Adding the extra columns\n",
      "Index(['index', 'Encounter ID', 'Date', 'OR Suite', 'Service', 'CPT Code',\n",
      "       'CPT Description', 'Booked Time (min)', 'OR Schedule', 'Wheels In',\n",
      "       'Start Time', 'End Time', 'Wheels Out', 'procedure_minutes',\n",
      "       'setup_minutes', 'exit_minutes'],\n",
      "      dtype='object')\n"
     ]
    },
    {
     "name": "stderr",
     "output_type": "stream",
     "text": [
      "/var/folders/gl/rtk4gdps67v0p982cpbqjhs80000gn/T/ipykernel_5870/2397280136.py:6: UserWarning: Could not infer format, so each element will be parsed individually, falling back to `dateutil`. To ensure parsing is consistent and as-expected, please specify a format.\n",
      "  df[col] = pd.to_datetime(df[col], errors='coerce')\n",
      "/var/folders/gl/rtk4gdps67v0p982cpbqjhs80000gn/T/ipykernel_5870/2397280136.py:6: UserWarning: Could not infer format, so each element will be parsed individually, falling back to `dateutil`. To ensure parsing is consistent and as-expected, please specify a format.\n",
      "  df[col] = pd.to_datetime(df[col], errors='coerce')\n",
      "/var/folders/gl/rtk4gdps67v0p982cpbqjhs80000gn/T/ipykernel_5870/2397280136.py:6: UserWarning: Could not infer format, so each element will be parsed individually, falling back to `dateutil`. To ensure parsing is consistent and as-expected, please specify a format.\n",
      "  df[col] = pd.to_datetime(df[col], errors='coerce')\n",
      "/var/folders/gl/rtk4gdps67v0p982cpbqjhs80000gn/T/ipykernel_5870/2397280136.py:6: UserWarning: Could not infer format, so each element will be parsed individually, falling back to `dateutil`. To ensure parsing is consistent and as-expected, please specify a format.\n",
      "  df[col] = pd.to_datetime(df[col], errors='coerce')\n"
     ]
    }
   ],
   "source": [
    "\n",
    "df = pd.read_csv(\"../data/2022_Q1_OR_Utilization.csv\")\n",
    "\n",
    "# Converting the date string to date time object\n",
    "df['Date'] = pd.to_datetime(df['Date'], format=\"%m/%d/%y\")\n",
    "for col in ['Wheels In','Start Time','End Time','Wheels Out']:\n",
    "    df[col] = pd.to_datetime(df[col], errors='coerce')\n",
    "\n",
    "print(df.columns)\n",
    "\n",
    "# Creating the columns procedure_minutes, setup_minutes, exit_minutes\n",
    "df['procedure_minutes'] = (df['End Time'] - df['Start Time']).dt.total_seconds()/60\n",
    "df['setup_minutes'] = (df['Start Time'] - df['Wheels In']).dt.total_seconds()/60\n",
    "df['exit_minutes']  = (df['Wheels Out'] - df['End Time']).dt.total_seconds()/60\n",
    "\n",
    "# Fiiltering the dataset based on  hourly basis\n",
    "df = df[(df['procedure_minutes'] > 0) & (df['procedure_minutes'] < 360)]\n",
    "\n",
    "# Find the shape of the dataset\n",
    "print(df.shape)\n",
    "\n",
    "print(\"Adding the extra columns\")\n",
    "\n",
    "# explore the columns\n",
    "print(df.columns)\n"
   ]
  },
  {
   "cell_type": "markdown",
   "id": "9dd4f588",
   "metadata": {},
   "source": [
    "# -----------------------------\n",
    "### 3. Generative AI-Assisted Feature Engineering\n",
    "# -----------------------------"
   ]
  },
  {
   "cell_type": "code",
   "execution_count": null,
   "id": "5bf165ae",
   "metadata": {},
   "outputs": [],
   "source": [
    "# Here the extra columns such as weekday , month and is_morning is added extra using GPT\n",
    "df['weekday'] = df['Date'].dt.weekday\n",
    "df['month'] = df['Date'].dt.month\n",
    "df['is_morning'] = (df['Start Time'].dt.hour < 12).astype(int)"
   ]
  }
 ],
 "metadata": {
  "kernelspec": {
   "display_name": ".venv",
   "language": "python",
   "name": "python3"
  },
  "language_info": {
   "codemirror_mode": {
    "name": "ipython",
    "version": 3
   },
   "file_extension": ".py",
   "mimetype": "text/x-python",
   "name": "python",
   "nbconvert_exporter": "python",
   "pygments_lexer": "ipython3",
   "version": "3.13.7"
  }
 },
 "nbformat": 4,
 "nbformat_minor": 5
}
