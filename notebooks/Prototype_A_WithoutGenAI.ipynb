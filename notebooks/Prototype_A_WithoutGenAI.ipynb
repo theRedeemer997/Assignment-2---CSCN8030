{
 "cells": [
  {
   "cell_type": "markdown",
   "id": "0250033c",
   "metadata": {},
   "source": [
    "# =========================================\n",
    "# CSCN8030 Assignment 2\n",
    "# Prototype A – Without Generative AI\n",
    "# ========================================="
   ]
  },
  {
   "cell_type": "markdown",
   "id": "cb9e68f4",
   "metadata": {
    "vscode": {
     "languageId": "plaintext"
    }
   },
   "source": [
    "# -----------------------------\n",
    "# 1. Import libraries\n",
    "# -----------------------------"
   ]
  },
  {
   "cell_type": "code",
   "execution_count": null,
   "id": "d549b956",
   "metadata": {
    "vscode": {
     "languageId": "plaintext"
    }
   },
   "outputs": [],
   "source": [
    "import pandas as pd"
   ]
  }
 ],
 "metadata": {
  "language_info": {
   "name": "python"
  }
 },
 "nbformat": 4,
 "nbformat_minor": 5
}
