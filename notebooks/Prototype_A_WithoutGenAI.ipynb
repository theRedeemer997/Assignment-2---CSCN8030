{
 "cells": [
  {
   "cell_type": "markdown",
   "id": "0250033c",
   "metadata": {},
   "source": [
    "# =========================================\n",
    "# Prototype A – Without Generative AI\n",
    "# ========================================="
   ]
  },
  {
   "cell_type": "markdown",
   "id": "cb9e68f4",
   "metadata": {
    "vscode": {
     "languageId": "plaintext"
    }
   },
   "source": [
    "# -----------------------------\n",
    "### 1. Import libraries\n",
    "# -----------------------------"
   ]
  },
  {
   "cell_type": "code",
   "execution_count": 17,
   "id": "d549b956",
   "metadata": {},
   "outputs": [],
   "source": [
    "import pandas as pd\n",
    "from sklearn.model_selection import train_test_split\n",
    "from sklearn.compose import ColumnTransformer\n",
    "from sklearn.preprocessing import OneHotEncoder"
   ]
  },
  {
   "cell_type": "markdown",
   "id": "383700de",
   "metadata": {},
   "source": [
    "# -----------------------------\n",
    "### 2. Load and explore dataset\n",
    "# -----------------------------"
   ]
  },
  {
   "cell_type": "code",
   "execution_count": 4,
   "id": "030ce450",
   "metadata": {},
   "outputs": [
    {
     "name": "stdout",
     "output_type": "stream",
     "text": [
      "Shape of dataset: (2172, 13)\n",
      "   index  Encounter ID      Date  OR Suite      Service  CPT Code  \\\n",
      "0      0         10001  01/03/22         1     Podiatry     28110   \n",
      "1      1         10002  01/03/22         1     Podiatry     28055   \n",
      "2      2         10003  01/03/22         1     Podiatry     28297   \n",
      "3      3         10004  01/03/22         1     Podiatry     28296   \n",
      "4      4         10005  01/03/22         2  Orthopedics     27445   \n",
      "\n",
      "                             CPT Description  Booked Time (min)  \\\n",
      "0   Partial ostectomy, fifth metatarsal head                 90   \n",
      "1  Neurectomy, intrinsic musculature of foot                 60   \n",
      "2                       Lapidus bunionectomy                150   \n",
      "3         Bunionectomy with distal osteotomy                120   \n",
      "4        Arthroplasty, knee, hinge prothesis                120   \n",
      "\n",
      "         OR Schedule          Wheels In         Start Time           End Time  \\\n",
      "0  01/03/22 07:00 AM  01/03/22 07:05 AM  01/03/22 07:32 AM  01/03/22 09:05 AM   \n",
      "1  01/03/22 08:45 AM  01/03/22 09:48 AM  01/03/22 10:13 AM  01/03/22 11:01 AM   \n",
      "2  01/03/22 10:00 AM  01/03/22 11:50 AM  01/03/22 12:20 PM  01/03/22 12:42 PM   \n",
      "3  01/03/22 12:45 PM  01/03/22 01:29 PM  01/03/22 01:53 PM  01/03/22 02:50 PM   \n",
      "4  01/03/22 07:00 AM  01/03/22 07:15 AM  01/03/22 07:50 AM  01/03/22 09:38 AM   \n",
      "\n",
      "          Wheels Out  \n",
      "0  01/03/22 09:17 AM  \n",
      "1  01/03/22 11:12 AM  \n",
      "2  01/03/22 12:58 PM  \n",
      "3  01/03/22 03:02 PM  \n",
      "4  01/03/22 09:51 AM  \n",
      "Index(['index', 'Encounter ID', 'Date', 'OR Suite', 'Service', 'CPT Code',\n",
      "       'CPT Description', 'Booked Time (min)', 'OR Schedule', 'Wheels In',\n",
      "       'Start Time', 'End Time', 'Wheels Out'],\n",
      "      dtype='object')\n"
     ]
    }
   ],
   "source": [
    "df = pd.read_csv(\"../data/2022_Q1_OR_Utilization.csv\")\n",
    "print(\"Shape of dataset:\", df.shape)\n",
    "print(df.head())\n",
    "# Loading the columns\n",
    "print(df.columns)\n"
   ]
  },
  {
   "cell_type": "markdown",
   "id": "406cb4b6",
   "metadata": {},
   "source": [
    "# -----------------------------\n",
    "### 3. Convert time columns to datetime\n",
    "# -----------------------------"
   ]
  },
  {
   "cell_type": "code",
   "execution_count": null,
   "id": "3edac584",
   "metadata": {},
   "outputs": [],
   "source": [
    "# Converting the text date string to datetime object\n",
    "df['Date'] = pd.to_datetime(df['Date'], format=\"%m/%d/%y\")\n",
    "for col in ['Wheels In','Start Time','End Time','Wheels Out']:\n",
    "    df[col] = pd.to_datetime(df[col], errors='coerce')"
   ]
  },
  {
   "cell_type": "markdown",
   "id": "78ea5244",
   "metadata": {},
   "source": [
    "# -----------------------------\n",
    "### 4. Create duration features\n",
    "# -----------------------------"
   ]
  },
  {
   "cell_type": "code",
   "execution_count": 10,
   "id": "9a7cc0ed",
   "metadata": {},
   "outputs": [
    {
     "name": "stdout",
     "output_type": "stream",
     "text": [
      "Dataset after cleaning (2172, 16)\n",
      "Index(['index', 'Encounter ID', 'Date', 'OR Suite', 'Service', 'CPT Code',\n",
      "       'CPT Description', 'Booked Time (min)', 'OR Schedule', 'Wheels In',\n",
      "       'Start Time', 'End Time', 'Wheels Out', 'procedure_minutes',\n",
      "       'setup_minutes', 'exit_minutes'],\n",
      "      dtype='object')\n"
     ]
    }
   ],
   "source": [
    "# Adding extra columns procedure_minutes, setup_minutes and exit_minutes\n",
    "df['procedure_minutes'] = (df['End Time'] - df['Start Time']).dt.total_seconds()/60\n",
    "df['setup_minutes'] = (df['Start Time'] - df['Wheels In']).dt.total_seconds()/60\n",
    "df['exit_minutes']  = (df['Wheels Out'] - df['End Time']).dt.total_seconds()/60\n",
    "\n",
    "# Filtering out unrealistic duration\n",
    "df = df[(df['procedure_minutes'] > 0) & (df['procedure_minutes'] < 360)]\n",
    "# Print the shape of the cleaned dataset\n",
    "print(\"Dataset after cleaning\", df.shape)\n",
    "# Explore the columns again before chososing the feature and the target\n",
    "print(df.columns)"
   ]
  },
  {
   "cell_type": "markdown",
   "id": "a08a12e2",
   "metadata": {},
   "source": [
    "# -----------------------------\n",
    "### 5. Define features and targets\n",
    "# -----------------------------"
   ]
  },
  {
   "cell_type": "code",
   "execution_count": 12,
   "id": "aa2fe4d1",
   "metadata": {},
   "outputs": [],
   "source": [
    "# Here the features are 'Booked Time (min)', 'Service', 'OR Suite' and the target are procedure_minutes\n",
    "features = ['Booked Time (min)', 'Service', 'OR Suite']\n",
    "X = df[features]\n",
    "y = df['procedure_minutes']"
   ]
  },
  {
   "cell_type": "markdown",
   "id": "d305df66",
   "metadata": {},
   "source": [
    "# -----------------------------\n",
    "### 6. Split data\n",
    "# -----------------------------"
   ]
  },
  {
   "cell_type": "code",
   "execution_count": 16,
   "id": "4ae291ef",
   "metadata": {},
   "outputs": [],
   "source": [
    "# Splitting the dataset into trainig and testing dataset\n",
    "X_train, X_test, y_train, y_test = train_test_split(X, y, test_size=0.2, random_state=42)"
   ]
  },
  {
   "cell_type": "code",
   "execution_count": null,
   "id": "494d786e",
   "metadata": {},
   "outputs": [],
   "source": [
    "# -----------------------------\n",
    "# 7. Preprocessing\n",
    "# -----------------------------\n"
   ]
  },
  {
   "cell_type": "code",
   "execution_count": null,
   "id": "d5041760",
   "metadata": {},
   "outputs": [],
   "source": [
    "# There are several specialization such as orhtopedics and pediatrics and these specialization cannot be understood by the model so we are encoding it to 0s and 1s.\n",
    "preprocessor = ColumnTransformer([\n",
    "    ('cat', OneHotEncoder(handle_unknown='ignore'), ['Service']),\n",
    "    ('num', 'passthrough', ['Booked Time (min)', 'OR Suite'])\n",
    "])"
   ]
  }
 ],
 "metadata": {
  "kernelspec": {
   "display_name": ".venv",
   "language": "python",
   "name": "python3"
  },
  "language_info": {
   "codemirror_mode": {
    "name": "ipython",
    "version": 3
   },
   "file_extension": ".py",
   "mimetype": "text/x-python",
   "name": "python",
   "nbconvert_exporter": "python",
   "pygments_lexer": "ipython3",
   "version": "3.13.7"
  }
 },
 "nbformat": 4,
 "nbformat_minor": 5
}
